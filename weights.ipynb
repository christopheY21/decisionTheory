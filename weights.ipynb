{
 "cells": [
  {
   "cell_type": "code",
   "execution_count": null,
   "metadata": {},
   "outputs": [],
   "source": []
  },
  {
   "cell_type": "code",
   "execution_count": 2,
   "metadata": {},
   "outputs": [],
   "source": [
    "import numpy as np\n",
    "import pandas as pd"
   ]
  },
  {
   "cell_type": "code",
   "execution_count": 3,
   "metadata": {},
   "outputs": [],
   "source": [
    "criteriaList= ['dataQuality',\n",
    " 'installationGrade',\n",
    " 'maintenanceCost',\n",
    " 'userExperience',\n",
    " 'privacy']\n",
    "criteriaMatrix = pd.DataFrame(index=criteriaList, columns=criteriaList)\n",
    "np.fill_diagonal(criteriaMatrix.values,1)\n",
    "#fill matrix\n",
    "criteriaMatrix[\"installationGrade\"][\"dataQuality\"]=6\n",
    "criteriaMatrix[\"maintenanceCost\"][\"dataQuality\"]=3\n",
    "criteriaMatrix[\"userExperience\"][\"dataQuality\"]=4\n",
    "criteriaMatrix[\"privacy\"][\"dataQuality\"]=1\n",
    "criteriaMatrix[\"installationGrade\"][\"maintenanceCost\"]=5\n",
    "criteriaMatrix[\"installationGrade\"][\"userExperience\"]=4\n",
    "criteriaMatrix[\"installationGrade\"][\"privacy\"]=6\n",
    "criteriaMatrix[\"userExperience\"][\"maintenanceCost\"]=3\n",
    "criteriaMatrix[\"maintenanceCost\"][\"privacy\"]=3\n",
    "criteriaMatrix[\"userExperience\"][\"privacy\"]=2\n",
    "# Create a mask for the NaN values in the original DataFrame\n",
    "mask = criteriaMatrix.isna()\n",
    "\n",
    "# Iterate over the DataFrame and replace NaN values\n",
    "for i in range(criteriaMatrix.shape[0]):\n",
    "    for j in range(criteriaMatrix.shape[1]):\n",
    "        if mask.iloc[i, j]:\n",
    "            criteriaMatrix.iloc[i, j] = 1 / criteriaMatrix.iloc[j, i]"
   ]
  },
  {
   "cell_type": "code",
   "execution_count": 4,
   "metadata": {},
   "outputs": [
    {
     "name": "stdout",
     "output_type": "stream",
     "text": [
      "dataQuality              2.75\n",
      "installationGrade          22\n",
      "maintenanceCost      7.533333\n",
      "userExperience          10.25\n",
      "privacy                   3.0\n",
      "dtype: object\n"
     ]
    },
    {
     "data": {
      "text/html": [
       "<div>\n",
       "<style scoped>\n",
       "    .dataframe tbody tr th:only-of-type {\n",
       "        vertical-align: middle;\n",
       "    }\n",
       "\n",
       "    .dataframe tbody tr th {\n",
       "        vertical-align: top;\n",
       "    }\n",
       "\n",
       "    .dataframe thead th {\n",
       "        text-align: right;\n",
       "    }\n",
       "</style>\n",
       "<table border=\"1\" class=\"dataframe\">\n",
       "  <thead>\n",
       "    <tr style=\"text-align: right;\">\n",
       "      <th></th>\n",
       "      <th>dataQuality</th>\n",
       "      <th>installationGrade</th>\n",
       "      <th>maintenanceCost</th>\n",
       "      <th>userExperience</th>\n",
       "      <th>privacy</th>\n",
       "    </tr>\n",
       "  </thead>\n",
       "  <tbody>\n",
       "    <tr>\n",
       "      <th>dataQuality</th>\n",
       "      <td>1</td>\n",
       "      <td>6</td>\n",
       "      <td>3</td>\n",
       "      <td>4</td>\n",
       "      <td>1</td>\n",
       "    </tr>\n",
       "    <tr>\n",
       "      <th>installationGrade</th>\n",
       "      <td>0.166667</td>\n",
       "      <td>1</td>\n",
       "      <td>0.2</td>\n",
       "      <td>0.25</td>\n",
       "      <td>0.166667</td>\n",
       "    </tr>\n",
       "    <tr>\n",
       "      <th>maintenanceCost</th>\n",
       "      <td>0.333333</td>\n",
       "      <td>5</td>\n",
       "      <td>1</td>\n",
       "      <td>3</td>\n",
       "      <td>0.333333</td>\n",
       "    </tr>\n",
       "    <tr>\n",
       "      <th>userExperience</th>\n",
       "      <td>0.25</td>\n",
       "      <td>4</td>\n",
       "      <td>0.333333</td>\n",
       "      <td>1</td>\n",
       "      <td>0.5</td>\n",
       "    </tr>\n",
       "    <tr>\n",
       "      <th>privacy</th>\n",
       "      <td>1.0</td>\n",
       "      <td>6</td>\n",
       "      <td>3</td>\n",
       "      <td>2</td>\n",
       "      <td>1</td>\n",
       "    </tr>\n",
       "  </tbody>\n",
       "</table>\n",
       "</div>"
      ],
      "text/plain": [
       "                  dataQuality installationGrade maintenanceCost  \\\n",
       "dataQuality                 1                 6               3   \n",
       "installationGrade    0.166667                 1             0.2   \n",
       "maintenanceCost      0.333333                 5               1   \n",
       "userExperience           0.25                 4        0.333333   \n",
       "privacy                   1.0                 6               3   \n",
       "\n",
       "                  userExperience   privacy  \n",
       "dataQuality                    4         1  \n",
       "installationGrade           0.25  0.166667  \n",
       "maintenanceCost                3  0.333333  \n",
       "userExperience                 1       0.5  \n",
       "privacy                        2         1  "
      ]
     },
     "execution_count": 4,
     "metadata": {},
     "output_type": "execute_result"
    }
   ],
   "source": [
    "criteriaSum=criteriaMatrix.sum()\n",
    "print(criteriaSum)\n",
    "criteriaMatrix"
   ]
  },
  {
   "cell_type": "code",
   "execution_count": 5,
   "metadata": {},
   "outputs": [
    {
     "data": {
      "text/html": [
       "<div>\n",
       "<style scoped>\n",
       "    .dataframe tbody tr th:only-of-type {\n",
       "        vertical-align: middle;\n",
       "    }\n",
       "\n",
       "    .dataframe tbody tr th {\n",
       "        vertical-align: top;\n",
       "    }\n",
       "\n",
       "    .dataframe thead th {\n",
       "        text-align: right;\n",
       "    }\n",
       "</style>\n",
       "<table border=\"1\" class=\"dataframe\">\n",
       "  <thead>\n",
       "    <tr style=\"text-align: right;\">\n",
       "      <th></th>\n",
       "      <th>dataQuality</th>\n",
       "      <th>installationGrade</th>\n",
       "      <th>maintenanceCost</th>\n",
       "      <th>userExperience</th>\n",
       "      <th>privacy</th>\n",
       "    </tr>\n",
       "  </thead>\n",
       "  <tbody>\n",
       "    <tr>\n",
       "      <th>dataQuality</th>\n",
       "      <td>0.363636</td>\n",
       "      <td>0.272727</td>\n",
       "      <td>0.39823</td>\n",
       "      <td>0.390244</td>\n",
       "      <td>0.333333</td>\n",
       "    </tr>\n",
       "    <tr>\n",
       "      <th>installationGrade</th>\n",
       "      <td>0.060606</td>\n",
       "      <td>0.045455</td>\n",
       "      <td>0.026549</td>\n",
       "      <td>0.02439</td>\n",
       "      <td>0.055556</td>\n",
       "    </tr>\n",
       "    <tr>\n",
       "      <th>maintenanceCost</th>\n",
       "      <td>0.121212</td>\n",
       "      <td>0.227273</td>\n",
       "      <td>0.132743</td>\n",
       "      <td>0.292683</td>\n",
       "      <td>0.111111</td>\n",
       "    </tr>\n",
       "    <tr>\n",
       "      <th>userExperience</th>\n",
       "      <td>0.090909</td>\n",
       "      <td>0.181818</td>\n",
       "      <td>0.044248</td>\n",
       "      <td>0.097561</td>\n",
       "      <td>0.166667</td>\n",
       "    </tr>\n",
       "    <tr>\n",
       "      <th>privacy</th>\n",
       "      <td>0.363636</td>\n",
       "      <td>0.272727</td>\n",
       "      <td>0.39823</td>\n",
       "      <td>0.195122</td>\n",
       "      <td>0.333333</td>\n",
       "    </tr>\n",
       "  </tbody>\n",
       "</table>\n",
       "</div>"
      ],
      "text/plain": [
       "                  dataQuality installationGrade maintenanceCost  \\\n",
       "dataQuality          0.363636          0.272727         0.39823   \n",
       "installationGrade    0.060606          0.045455        0.026549   \n",
       "maintenanceCost      0.121212          0.227273        0.132743   \n",
       "userExperience       0.090909          0.181818        0.044248   \n",
       "privacy              0.363636          0.272727         0.39823   \n",
       "\n",
       "                  userExperience   privacy  \n",
       "dataQuality             0.390244  0.333333  \n",
       "installationGrade        0.02439  0.055556  \n",
       "maintenanceCost         0.292683  0.111111  \n",
       "userExperience          0.097561  0.166667  \n",
       "privacy                 0.195122  0.333333  "
      ]
     },
     "execution_count": 5,
     "metadata": {},
     "output_type": "execute_result"
    }
   ],
   "source": [
    "normalizedCriteriaMatrix = criteriaMatrix/criteriaSum\n",
    "normalizedCriteriaMatrix"
   ]
  },
  {
   "cell_type": "code",
   "execution_count": 6,
   "metadata": {},
   "outputs": [
    {
     "data": {
      "text/plain": [
       "dataQuality          0.351634\n",
       "installationGrade    0.042511\n",
       "maintenanceCost      0.177004\n",
       "userExperience       0.116241\n",
       "privacy              0.312610\n",
       "dtype: float64"
      ]
     },
     "execution_count": 6,
     "metadata": {},
     "output_type": "execute_result"
    }
   ],
   "source": [
    "weights = normalizedCriteriaMatrix.mean(axis=1)\n",
    "weights"
   ]
  },
  {
   "cell_type": "code",
   "execution_count": 7,
   "metadata": {},
   "outputs": [],
   "source": [
    "#check consistency\n",
    "consistency = criteriaMatrix * weights"
   ]
  },
  {
   "cell_type": "code",
   "execution_count": 8,
   "metadata": {},
   "outputs": [],
   "source": [
    "weightsSum = consistency.sum(axis=1)"
   ]
  },
  {
   "cell_type": "code",
   "execution_count": 9,
   "metadata": {},
   "outputs": [
    {
     "data": {
      "text/plain": [
       "dataQuality          5.446813\n",
       "installationGrade    5.120540\n",
       "maintenanceCost      5.421874\n",
       "userExperience       5.071376\n",
       "privacy              5.383083\n",
       "dtype: float64"
      ]
     },
     "execution_count": 9,
     "metadata": {},
     "output_type": "execute_result"
    }
   ],
   "source": [
    "lamb = weightsSum/weights\n",
    "lamb"
   ]
  },
  {
   "cell_type": "code",
   "execution_count": 10,
   "metadata": {},
   "outputs": [],
   "source": [
    "avgLamb = lamb.mean()"
   ]
  },
  {
   "cell_type": "code",
   "execution_count": 11,
   "metadata": {},
   "outputs": [],
   "source": [
    "consistencyIndex = (avgLamb-5)/(5-1)"
   ]
  },
  {
   "cell_type": "code",
   "execution_count": 12,
   "metadata": {},
   "outputs": [],
   "source": [
    "consistencyRatio = consistencyIndex/1.12"
   ]
  },
  {
   "cell_type": "code",
   "execution_count": 13,
   "metadata": {},
   "outputs": [
    {
     "data": {
      "text/plain": [
       "0.0644502914076294"
      ]
     },
     "execution_count": 13,
     "metadata": {},
     "output_type": "execute_result"
    }
   ],
   "source": [
    "consistencyRatio"
   ]
  }
 ],
 "metadata": {
  "kernelspec": {
   "display_name": "base",
   "language": "python",
   "name": "python3"
  },
  "language_info": {
   "codemirror_mode": {
    "name": "ipython",
    "version": 3
   },
   "file_extension": ".py",
   "mimetype": "text/x-python",
   "name": "python",
   "nbconvert_exporter": "python",
   "pygments_lexer": "ipython3",
   "version": "3.11.3"
  }
 },
 "nbformat": 4,
 "nbformat_minor": 2
}
