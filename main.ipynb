{
 "cells": [
  {
   "cell_type": "code",
   "execution_count": 77,
   "metadata": {},
   "outputs": [],
   "source": [
    "import Stape\n",
    "import Matomo\n",
    "import GoogleClientSide\n",
    "import GoogleServerSide\n",
    "import ARCADSolution\n",
    "import numpy as np"
   ]
  },
  {
   "cell_type": "code",
   "execution_count": 78,
   "metadata": {},
   "outputs": [],
   "source": [
    "from SolutionType import ClientPreference\n",
    "\n",
    "\n",
    "clienpref = ClientPreference(15,1,1,10,5,100,10000000)\n",
    "\n",
    "\n",
    "\n",
    "stape = Stape.Stape(clienpref).getCriterias()\n",
    "matomo = Matomo.Matomo(clienpref).getCriterias()\n",
    "gcs = GoogleClientSide.GoogleClientSide(clienpref).getCriterias()\n",
    "gss = GoogleServerSide.GoogleServerSide(clienpref).getCriterias()\n",
    "acs = ARCADSolution.ARCADSolution(clienpref).getCriterias()"
   ]
  },
  {
   "cell_type": "code",
   "execution_count": 79,
   "metadata": {},
   "outputs": [],
   "source": [
    "l = [stape,gcs,gss,matomo,acs]\n",
    "l = [stape,gcs,gss,matomo,acs]\n"
   ]
  },
  {
   "cell_type": "code",
   "execution_count": 80,
   "metadata": {},
   "outputs": [],
   "source": [
    "import pandas as pd\n",
    "\n",
    "\n",
    "df = pd.DataFrame(l)"
   ]
  },
  {
   "cell_type": "code",
   "execution_count": 81,
   "metadata": {},
   "outputs": [],
   "source": [
    "df.loc[1,\"dataQuality\"] = 0.001"
   ]
  },
  {
   "cell_type": "code",
   "execution_count": 82,
   "metadata": {},
   "outputs": [
    {
     "data": {
      "text/html": [
       "<div>\n",
       "<style scoped>\n",
       "    .dataframe tbody tr th:only-of-type {\n",
       "        vertical-align: middle;\n",
       "    }\n",
       "\n",
       "    .dataframe tbody tr th {\n",
       "        vertical-align: top;\n",
       "    }\n",
       "\n",
       "    .dataframe thead th {\n",
       "        text-align: right;\n",
       "    }\n",
       "</style>\n",
       "<table border=\"1\" class=\"dataframe\">\n",
       "  <thead>\n",
       "    <tr style=\"text-align: right;\">\n",
       "      <th></th>\n",
       "      <th>solutionName</th>\n",
       "      <th>dataQuality</th>\n",
       "      <th>installationGrade</th>\n",
       "      <th>maintenanceCost</th>\n",
       "      <th>userExperience</th>\n",
       "      <th>privacy</th>\n",
       "    </tr>\n",
       "  </thead>\n",
       "  <tbody>\n",
       "    <tr>\n",
       "      <th>0</th>\n",
       "      <td>Stape</td>\n",
       "      <td>0.650</td>\n",
       "      <td>75</td>\n",
       "      <td>150</td>\n",
       "      <td>2.0</td>\n",
       "      <td>2.718282</td>\n",
       "    </tr>\n",
       "    <tr>\n",
       "      <th>1</th>\n",
       "      <td>GoogleClientSide</td>\n",
       "      <td>0.001</td>\n",
       "      <td>15</td>\n",
       "      <td>1</td>\n",
       "      <td>2.0</td>\n",
       "      <td>4.481689</td>\n",
       "    </tr>\n",
       "    <tr>\n",
       "      <th>2</th>\n",
       "      <td>GoogleServerSide</td>\n",
       "      <td>0.300</td>\n",
       "      <td>75</td>\n",
       "      <td>115</td>\n",
       "      <td>2.0</td>\n",
       "      <td>4.481689</td>\n",
       "    </tr>\n",
       "    <tr>\n",
       "      <th>3</th>\n",
       "      <td>Matomo</td>\n",
       "      <td>0.650</td>\n",
       "      <td>75</td>\n",
       "      <td>1490</td>\n",
       "      <td>1.0</td>\n",
       "      <td>2.718282</td>\n",
       "    </tr>\n",
       "    <tr>\n",
       "      <th>4</th>\n",
       "      <td>ARCADSolution</td>\n",
       "      <td>1.000</td>\n",
       "      <td>75</td>\n",
       "      <td>115</td>\n",
       "      <td>2.0</td>\n",
       "      <td>1.648721</td>\n",
       "    </tr>\n",
       "  </tbody>\n",
       "</table>\n",
       "</div>"
      ],
      "text/plain": [
       "       solutionName  dataQuality  installationGrade  maintenanceCost  \\\n",
       "0             Stape        0.650                 75              150   \n",
       "1  GoogleClientSide        0.001                 15                1   \n",
       "2  GoogleServerSide        0.300                 75              115   \n",
       "3            Matomo        0.650                 75             1490   \n",
       "4     ARCADSolution        1.000                 75              115   \n",
       "\n",
       "   userExperience   privacy  \n",
       "0             2.0  2.718282  \n",
       "1             2.0  4.481689  \n",
       "2             2.0  4.481689  \n",
       "3             1.0  2.718282  \n",
       "4             2.0  1.648721  "
      ]
     },
     "execution_count": 82,
     "metadata": {},
     "output_type": "execute_result"
    }
   ],
   "source": [
    "df"
   ]
  },
  {
   "cell_type": "code",
   "execution_count": 83,
   "metadata": {},
   "outputs": [],
   "source": [
    "#categorize of attributes\n",
    "benefitAttributes = [\"dataQuality\"]\n",
    "costAttributes = [\"installationGrade\",\"maintenanceCost\",\"userExperience\",\"privacy\"]\n",
    "\n",
    "def normalization(attributes):\n",
    "    sumAttributes = attributes.sum()\n",
    "\n",
    "\n",
    "def evaluationPolicy(solution,benefit,cost):\n",
    "    colList = solution.columns\n",
    "    colNormalized = []\n",
    "    #normalization \n",
    "    for column in colList:\n",
    "        if column in benefit:\n",
    "            #NORMALIZATION\n",
    "            solution[column+\"normalization\"] = solution[column]/solution[column].sum()\n",
    "            colNormalized.append(column+\"normalization\")\n",
    "        elif column in cost:\n",
    "            solution[column+\"normalization\"] = (1/(solution[column]+1))/(solution[column].apply(lambda x : 1/(x+1)).sum())\n",
    "            colNormalized.append(column+\"normalization\")\n",
    "    return colNormalized\n",
    "colN = evaluationPolicy(df,benefitAttributes,costAttributes)"
   ]
  },
  {
   "cell_type": "code",
   "execution_count": null,
   "metadata": {},
   "outputs": [],
   "source": []
  },
  {
   "cell_type": "code",
   "execution_count": 84,
   "metadata": {},
   "outputs": [],
   "source": [
    "df2 = df.set_index(\"solutionName\")"
   ]
  },
  {
   "cell_type": "code",
   "execution_count": 85,
   "metadata": {},
   "outputs": [
    {
     "data": {
      "text/html": [
       "<div>\n",
       "<style scoped>\n",
       "    .dataframe tbody tr th:only-of-type {\n",
       "        vertical-align: middle;\n",
       "    }\n",
       "\n",
       "    .dataframe tbody tr th {\n",
       "        vertical-align: top;\n",
       "    }\n",
       "\n",
       "    .dataframe thead th {\n",
       "        text-align: right;\n",
       "    }\n",
       "</style>\n",
       "<table border=\"1\" class=\"dataframe\">\n",
       "  <thead>\n",
       "    <tr style=\"text-align: right;\">\n",
       "      <th></th>\n",
       "      <th>dataQualitynormalization</th>\n",
       "      <th>installationGradenormalization</th>\n",
       "      <th>maintenanceCostnormalization</th>\n",
       "      <th>userExperiencenormalization</th>\n",
       "      <th>privacynormalization</th>\n",
       "    </tr>\n",
       "  </thead>\n",
       "  <tbody>\n",
       "    <tr>\n",
       "      <th>0</th>\n",
       "      <td>0.249904</td>\n",
       "      <td>0.114286</td>\n",
       "      <td>0.012626</td>\n",
       "      <td>0.181818</td>\n",
       "      <td>0.210065</td>\n",
       "    </tr>\n",
       "    <tr>\n",
       "      <th>1</th>\n",
       "      <td>0.000384</td>\n",
       "      <td>0.542857</td>\n",
       "      <td>0.953226</td>\n",
       "      <td>0.181818</td>\n",
       "      <td>0.142489</td>\n",
       "    </tr>\n",
       "    <tr>\n",
       "      <th>2</th>\n",
       "      <td>0.115340</td>\n",
       "      <td>0.114286</td>\n",
       "      <td>0.016435</td>\n",
       "      <td>0.181818</td>\n",
       "      <td>0.142489</td>\n",
       "    </tr>\n",
       "    <tr>\n",
       "      <th>3</th>\n",
       "      <td>0.249904</td>\n",
       "      <td>0.114286</td>\n",
       "      <td>0.001279</td>\n",
       "      <td>0.272727</td>\n",
       "      <td>0.210065</td>\n",
       "    </tr>\n",
       "    <tr>\n",
       "      <th>4</th>\n",
       "      <td>0.384468</td>\n",
       "      <td>0.114286</td>\n",
       "      <td>0.016435</td>\n",
       "      <td>0.181818</td>\n",
       "      <td>0.294890</td>\n",
       "    </tr>\n",
       "  </tbody>\n",
       "</table>\n",
       "</div>"
      ],
      "text/plain": [
       "   dataQualitynormalization  installationGradenormalization  \\\n",
       "0                  0.249904                        0.114286   \n",
       "1                  0.000384                        0.542857   \n",
       "2                  0.115340                        0.114286   \n",
       "3                  0.249904                        0.114286   \n",
       "4                  0.384468                        0.114286   \n",
       "\n",
       "   maintenanceCostnormalization  userExperiencenormalization  \\\n",
       "0                      0.012626                     0.181818   \n",
       "1                      0.953226                     0.181818   \n",
       "2                      0.016435                     0.181818   \n",
       "3                      0.001279                     0.272727   \n",
       "4                      0.016435                     0.181818   \n",
       "\n",
       "   privacynormalization  \n",
       "0              0.210065  \n",
       "1              0.142489  \n",
       "2              0.142489  \n",
       "3              0.210065  \n",
       "4              0.294890  "
      ]
     },
     "execution_count": 85,
     "metadata": {},
     "output_type": "execute_result"
    }
   ],
   "source": [
    "df[colN]"
   ]
  },
  {
   "cell_type": "code",
   "execution_count": 86,
   "metadata": {},
   "outputs": [
    {
     "data": {
      "text/plain": [
       "['dataQualitynormalization',\n",
       " 'installationGradenormalization',\n",
       " 'maintenanceCostnormalization',\n",
       " 'userExperiencenormalization',\n",
       " 'privacynormalization']"
      ]
     },
     "execution_count": 86,
     "metadata": {},
     "output_type": "execute_result"
    }
   ],
   "source": [
    "colN"
   ]
  },
  {
   "cell_type": "code",
   "execution_count": 87,
   "metadata": {},
   "outputs": [],
   "source": [
    "df2[colN]\n",
    "sum_row = df2[colN].sum()\n"
   ]
  },
  {
   "cell_type": "code",
   "execution_count": 88,
   "metadata": {},
   "outputs": [
    {
     "data": {
      "text/plain": [
       "dataQualitynormalization          1.0\n",
       "installationGradenormalization    1.0\n",
       "maintenanceCostnormalization      1.0\n",
       "userExperiencenormalization       1.0\n",
       "privacynormalization              1.0\n",
       "dtype: float64"
      ]
     },
     "execution_count": 88,
     "metadata": {},
     "output_type": "execute_result"
    }
   ],
   "source": [
    "sum_row"
   ]
  },
  {
   "cell_type": "markdown",
   "metadata": {},
   "source": []
  },
  {
   "cell_type": "code",
   "execution_count": 89,
   "metadata": {},
   "outputs": [],
   "source": [
    "df.to_excel(\"test.xlsx\")"
   ]
  },
  {
   "cell_type": "markdown",
   "metadata": {},
   "source": [
    "Evaluation"
   ]
  },
  {
   "cell_type": "code",
   "execution_count": 90,
   "metadata": {},
   "outputs": [],
   "source": [
    "weights = {\n",
    "    \"dataQuality\"    :0.351634,\n",
    "\"installationGrade\":    0.042511,\n",
    "\"maintenanceCost\":      0.177004,\n",
    "\"userExperience\" :      0.116241,\n",
    "\"privacy\" :             0.312610,\n",
    "}\n",
    "weightsN = [0.351634,0.042511, 0.177004,0.116241,0.312610]\n",
    "weights = {}\n",
    "for i in range(len(weightsN)):\n",
    "    weights[colN[i]]=weightsN[i]"
   ]
  },
  {
   "cell_type": "code",
   "execution_count": 91,
   "metadata": {},
   "outputs": [
    {
     "data": {
      "text/html": [
       "<div>\n",
       "<style scoped>\n",
       "    .dataframe tbody tr th:only-of-type {\n",
       "        vertical-align: middle;\n",
       "    }\n",
       "\n",
       "    .dataframe tbody tr th {\n",
       "        vertical-align: top;\n",
       "    }\n",
       "\n",
       "    .dataframe thead th {\n",
       "        text-align: right;\n",
       "    }\n",
       "</style>\n",
       "<table border=\"1\" class=\"dataframe\">\n",
       "  <thead>\n",
       "    <tr style=\"text-align: right;\">\n",
       "      <th></th>\n",
       "      <th>dataQualitynormalization</th>\n",
       "      <th>installationGradenormalization</th>\n",
       "      <th>maintenanceCostnormalization</th>\n",
       "      <th>userExperiencenormalization</th>\n",
       "      <th>privacynormalization</th>\n",
       "    </tr>\n",
       "    <tr>\n",
       "      <th>solutionName</th>\n",
       "      <th></th>\n",
       "      <th></th>\n",
       "      <th></th>\n",
       "      <th></th>\n",
       "      <th></th>\n",
       "    </tr>\n",
       "  </thead>\n",
       "  <tbody>\n",
       "    <tr>\n",
       "      <th>Stape</th>\n",
       "      <td>0.249904</td>\n",
       "      <td>0.114286</td>\n",
       "      <td>0.012626</td>\n",
       "      <td>0.181818</td>\n",
       "      <td>0.210065</td>\n",
       "    </tr>\n",
       "    <tr>\n",
       "      <th>GoogleClientSide</th>\n",
       "      <td>0.000384</td>\n",
       "      <td>0.542857</td>\n",
       "      <td>0.953226</td>\n",
       "      <td>0.181818</td>\n",
       "      <td>0.142489</td>\n",
       "    </tr>\n",
       "    <tr>\n",
       "      <th>GoogleServerSide</th>\n",
       "      <td>0.115340</td>\n",
       "      <td>0.114286</td>\n",
       "      <td>0.016435</td>\n",
       "      <td>0.181818</td>\n",
       "      <td>0.142489</td>\n",
       "    </tr>\n",
       "    <tr>\n",
       "      <th>Matomo</th>\n",
       "      <td>0.249904</td>\n",
       "      <td>0.114286</td>\n",
       "      <td>0.001279</td>\n",
       "      <td>0.272727</td>\n",
       "      <td>0.210065</td>\n",
       "    </tr>\n",
       "    <tr>\n",
       "      <th>ARCADSolution</th>\n",
       "      <td>0.384468</td>\n",
       "      <td>0.114286</td>\n",
       "      <td>0.016435</td>\n",
       "      <td>0.181818</td>\n",
       "      <td>0.294890</td>\n",
       "    </tr>\n",
       "  </tbody>\n",
       "</table>\n",
       "</div>"
      ],
      "text/plain": [
       "                  dataQualitynormalization  installationGradenormalization  \\\n",
       "solutionName                                                                 \n",
       "Stape                             0.249904                        0.114286   \n",
       "GoogleClientSide                  0.000384                        0.542857   \n",
       "GoogleServerSide                  0.115340                        0.114286   \n",
       "Matomo                            0.249904                        0.114286   \n",
       "ARCADSolution                     0.384468                        0.114286   \n",
       "\n",
       "                  maintenanceCostnormalization  userExperiencenormalization  \\\n",
       "solutionName                                                                  \n",
       "Stape                                 0.012626                     0.181818   \n",
       "GoogleClientSide                      0.953226                     0.181818   \n",
       "GoogleServerSide                      0.016435                     0.181818   \n",
       "Matomo                                0.001279                     0.272727   \n",
       "ARCADSolution                         0.016435                     0.181818   \n",
       "\n",
       "                  privacynormalization  \n",
       "solutionName                            \n",
       "Stape                         0.210065  \n",
       "GoogleClientSide              0.142489  \n",
       "GoogleServerSide              0.142489  \n",
       "Matomo                        0.210065  \n",
       "ARCADSolution                 0.294890  "
      ]
     },
     "execution_count": 91,
     "metadata": {},
     "output_type": "execute_result"
    }
   ],
   "source": [
    "df2[colN]"
   ]
  },
  {
   "cell_type": "code",
   "execution_count": 92,
   "metadata": {},
   "outputs": [],
   "source": [
    "dfPWeights = df2 [colN] * weights\n",
    "\n",
    "dfPWeights2 = df2[colN]**weights"
   ]
  },
  {
   "cell_type": "code",
   "execution_count": 93,
   "metadata": {},
   "outputs": [
    {
     "data": {
      "text/html": [
       "<div>\n",
       "<style scoped>\n",
       "    .dataframe tbody tr th:only-of-type {\n",
       "        vertical-align: middle;\n",
       "    }\n",
       "\n",
       "    .dataframe tbody tr th {\n",
       "        vertical-align: top;\n",
       "    }\n",
       "\n",
       "    .dataframe thead th {\n",
       "        text-align: right;\n",
       "    }\n",
       "</style>\n",
       "<table border=\"1\" class=\"dataframe\">\n",
       "  <thead>\n",
       "    <tr style=\"text-align: right;\">\n",
       "      <th></th>\n",
       "      <th>dataQualitynormalization</th>\n",
       "      <th>installationGradenormalization</th>\n",
       "      <th>maintenanceCostnormalization</th>\n",
       "      <th>userExperiencenormalization</th>\n",
       "      <th>privacynormalization</th>\n",
       "    </tr>\n",
       "    <tr>\n",
       "      <th>solutionName</th>\n",
       "      <th></th>\n",
       "      <th></th>\n",
       "      <th></th>\n",
       "      <th></th>\n",
       "      <th></th>\n",
       "    </tr>\n",
       "  </thead>\n",
       "  <tbody>\n",
       "    <tr>\n",
       "      <th>Stape</th>\n",
       "      <td>0.087875</td>\n",
       "      <td>0.004858</td>\n",
       "      <td>0.002235</td>\n",
       "      <td>0.021135</td>\n",
       "      <td>0.065669</td>\n",
       "    </tr>\n",
       "    <tr>\n",
       "      <th>GoogleClientSide</th>\n",
       "      <td>0.000135</td>\n",
       "      <td>0.023077</td>\n",
       "      <td>0.168725</td>\n",
       "      <td>0.021135</td>\n",
       "      <td>0.044544</td>\n",
       "    </tr>\n",
       "    <tr>\n",
       "      <th>GoogleServerSide</th>\n",
       "      <td>0.040558</td>\n",
       "      <td>0.004858</td>\n",
       "      <td>0.002909</td>\n",
       "      <td>0.021135</td>\n",
       "      <td>0.044544</td>\n",
       "    </tr>\n",
       "    <tr>\n",
       "      <th>Matomo</th>\n",
       "      <td>0.087875</td>\n",
       "      <td>0.004858</td>\n",
       "      <td>0.000226</td>\n",
       "      <td>0.031702</td>\n",
       "      <td>0.065669</td>\n",
       "    </tr>\n",
       "    <tr>\n",
       "      <th>ARCADSolution</th>\n",
       "      <td>0.135192</td>\n",
       "      <td>0.004858</td>\n",
       "      <td>0.002909</td>\n",
       "      <td>0.021135</td>\n",
       "      <td>0.092186</td>\n",
       "    </tr>\n",
       "  </tbody>\n",
       "</table>\n",
       "</div>"
      ],
      "text/plain": [
       "                  dataQualitynormalization  installationGradenormalization  \\\n",
       "solutionName                                                                 \n",
       "Stape                             0.087875                        0.004858   \n",
       "GoogleClientSide                  0.000135                        0.023077   \n",
       "GoogleServerSide                  0.040558                        0.004858   \n",
       "Matomo                            0.087875                        0.004858   \n",
       "ARCADSolution                     0.135192                        0.004858   \n",
       "\n",
       "                  maintenanceCostnormalization  userExperiencenormalization  \\\n",
       "solutionName                                                                  \n",
       "Stape                                 0.002235                     0.021135   \n",
       "GoogleClientSide                      0.168725                     0.021135   \n",
       "GoogleServerSide                      0.002909                     0.021135   \n",
       "Matomo                                0.000226                     0.031702   \n",
       "ARCADSolution                         0.002909                     0.021135   \n",
       "\n",
       "                  privacynormalization  \n",
       "solutionName                            \n",
       "Stape                         0.065669  \n",
       "GoogleClientSide              0.044544  \n",
       "GoogleServerSide              0.044544  \n",
       "Matomo                        0.065669  \n",
       "ARCADSolution                 0.092186  "
      ]
     },
     "execution_count": 93,
     "metadata": {},
     "output_type": "execute_result"
    }
   ],
   "source": [
    "dfPWeights"
   ]
  },
  {
   "cell_type": "code",
   "execution_count": 94,
   "metadata": {},
   "outputs": [
    {
     "data": {
      "text/plain": [
       "solutionName\n",
       "Stape               0.181771\n",
       "GoogleClientSide    0.257616\n",
       "GoogleServerSide    0.114003\n",
       "Matomo              0.190330\n",
       "ARCADSolution       0.256280\n",
       "dtype: float64"
      ]
     },
     "execution_count": 94,
     "metadata": {},
     "output_type": "execute_result"
    }
   ],
   "source": [
    "dfPWeights.sum(axis=1)"
   ]
  },
  {
   "cell_type": "code",
   "execution_count": 95,
   "metadata": {},
   "outputs": [
    {
     "data": {
      "text/plain": [
       "solutionName\n",
       "Stape               0.130078\n",
       "GoogleClientSide    0.027137\n",
       "GoogleServerSide    0.091982\n",
       "Matomo              0.090917\n",
       "ARCADSolution       0.176324\n",
       "dtype: float64"
      ]
     },
     "execution_count": 95,
     "metadata": {},
     "output_type": "execute_result"
    }
   ],
   "source": [
    "dfPWeights2.prod(axis=1)"
   ]
  },
  {
   "cell_type": "code",
   "execution_count": null,
   "metadata": {},
   "outputs": [],
   "source": []
  }
 ],
 "metadata": {
  "kernelspec": {
   "display_name": "base",
   "language": "python",
   "name": "python3"
  },
  "language_info": {
   "codemirror_mode": {
    "name": "ipython",
    "version": 3
   },
   "file_extension": ".py",
   "mimetype": "text/x-python",
   "name": "python",
   "nbconvert_exporter": "python",
   "pygments_lexer": "ipython3",
   "version": "3.8.3"
  }
 },
 "nbformat": 4,
 "nbformat_minor": 2
}
